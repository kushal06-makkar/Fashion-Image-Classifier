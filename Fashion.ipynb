{
 "cells": [
  {
   "cell_type": "code",
   "execution_count": 1,
   "metadata": {},
   "outputs": [],
   "source": [
    "import numpy as np\n",
    "import matplotlib.pyplot as plt\n",
    "import pandas as pd"
   ]
  },
  {
   "cell_type": "markdown",
   "metadata": {},
   "source": [
    "DATA TRANSFORMATION"
   ]
  },
  {
   "cell_type": "code",
   "execution_count": 2,
   "metadata": {},
   "outputs": [],
   "source": [
    "df_training_set = pd.read_csv(\"Fashion/train.csv\")\n",
    "df_testing_set = pd.read_csv(\"Fashion/test.csv\")"
   ]
  },
  {
   "cell_type": "code",
   "execution_count": 3,
   "metadata": {},
   "outputs": [
    {
     "data": {
      "text/html": [
       "<div>\n",
       "<style scoped>\n",
       "    .dataframe tbody tr th:only-of-type {\n",
       "        vertical-align: middle;\n",
       "    }\n",
       "\n",
       "    .dataframe tbody tr th {\n",
       "        vertical-align: top;\n",
       "    }\n",
       "\n",
       "    .dataframe thead th {\n",
       "        text-align: right;\n",
       "    }\n",
       "</style>\n",
       "<table border=\"1\" class=\"dataframe\">\n",
       "  <thead>\n",
       "    <tr style=\"text-align: right;\">\n",
       "      <th></th>\n",
       "      <th>label</th>\n",
       "      <th>pixel1</th>\n",
       "      <th>pixel2</th>\n",
       "      <th>pixel3</th>\n",
       "      <th>pixel4</th>\n",
       "      <th>pixel5</th>\n",
       "      <th>pixel6</th>\n",
       "      <th>pixel7</th>\n",
       "      <th>pixel8</th>\n",
       "      <th>pixel9</th>\n",
       "      <th>...</th>\n",
       "      <th>pixel775</th>\n",
       "      <th>pixel776</th>\n",
       "      <th>pixel777</th>\n",
       "      <th>pixel778</th>\n",
       "      <th>pixel779</th>\n",
       "      <th>pixel780</th>\n",
       "      <th>pixel781</th>\n",
       "      <th>pixel782</th>\n",
       "      <th>pixel783</th>\n",
       "      <th>pixel784</th>\n",
       "    </tr>\n",
       "  </thead>\n",
       "  <tbody>\n",
       "    <tr>\n",
       "      <th>0</th>\n",
       "      <td>2</td>\n",
       "      <td>0</td>\n",
       "      <td>0</td>\n",
       "      <td>0</td>\n",
       "      <td>0</td>\n",
       "      <td>0</td>\n",
       "      <td>0</td>\n",
       "      <td>0</td>\n",
       "      <td>0</td>\n",
       "      <td>0</td>\n",
       "      <td>...</td>\n",
       "      <td>0</td>\n",
       "      <td>0</td>\n",
       "      <td>0</td>\n",
       "      <td>0</td>\n",
       "      <td>0</td>\n",
       "      <td>0</td>\n",
       "      <td>0</td>\n",
       "      <td>0</td>\n",
       "      <td>0</td>\n",
       "      <td>0</td>\n",
       "    </tr>\n",
       "    <tr>\n",
       "      <th>1</th>\n",
       "      <td>9</td>\n",
       "      <td>0</td>\n",
       "      <td>0</td>\n",
       "      <td>0</td>\n",
       "      <td>0</td>\n",
       "      <td>0</td>\n",
       "      <td>0</td>\n",
       "      <td>0</td>\n",
       "      <td>0</td>\n",
       "      <td>0</td>\n",
       "      <td>...</td>\n",
       "      <td>0</td>\n",
       "      <td>0</td>\n",
       "      <td>0</td>\n",
       "      <td>0</td>\n",
       "      <td>0</td>\n",
       "      <td>0</td>\n",
       "      <td>0</td>\n",
       "      <td>0</td>\n",
       "      <td>0</td>\n",
       "      <td>0</td>\n",
       "    </tr>\n",
       "    <tr>\n",
       "      <th>2</th>\n",
       "      <td>6</td>\n",
       "      <td>0</td>\n",
       "      <td>0</td>\n",
       "      <td>0</td>\n",
       "      <td>0</td>\n",
       "      <td>0</td>\n",
       "      <td>0</td>\n",
       "      <td>0</td>\n",
       "      <td>5</td>\n",
       "      <td>0</td>\n",
       "      <td>...</td>\n",
       "      <td>0</td>\n",
       "      <td>0</td>\n",
       "      <td>0</td>\n",
       "      <td>30</td>\n",
       "      <td>43</td>\n",
       "      <td>0</td>\n",
       "      <td>0</td>\n",
       "      <td>0</td>\n",
       "      <td>0</td>\n",
       "      <td>0</td>\n",
       "    </tr>\n",
       "    <tr>\n",
       "      <th>3</th>\n",
       "      <td>0</td>\n",
       "      <td>0</td>\n",
       "      <td>0</td>\n",
       "      <td>0</td>\n",
       "      <td>1</td>\n",
       "      <td>2</td>\n",
       "      <td>0</td>\n",
       "      <td>0</td>\n",
       "      <td>0</td>\n",
       "      <td>0</td>\n",
       "      <td>...</td>\n",
       "      <td>3</td>\n",
       "      <td>0</td>\n",
       "      <td>0</td>\n",
       "      <td>0</td>\n",
       "      <td>0</td>\n",
       "      <td>1</td>\n",
       "      <td>0</td>\n",
       "      <td>0</td>\n",
       "      <td>0</td>\n",
       "      <td>0</td>\n",
       "    </tr>\n",
       "    <tr>\n",
       "      <th>4</th>\n",
       "      <td>3</td>\n",
       "      <td>0</td>\n",
       "      <td>0</td>\n",
       "      <td>0</td>\n",
       "      <td>0</td>\n",
       "      <td>0</td>\n",
       "      <td>0</td>\n",
       "      <td>0</td>\n",
       "      <td>0</td>\n",
       "      <td>0</td>\n",
       "      <td>...</td>\n",
       "      <td>0</td>\n",
       "      <td>0</td>\n",
       "      <td>0</td>\n",
       "      <td>0</td>\n",
       "      <td>0</td>\n",
       "      <td>0</td>\n",
       "      <td>0</td>\n",
       "      <td>0</td>\n",
       "      <td>0</td>\n",
       "      <td>0</td>\n",
       "    </tr>\n",
       "  </tbody>\n",
       "</table>\n",
       "<p>5 rows × 785 columns</p>\n",
       "</div>"
      ],
      "text/plain": [
       "   label  pixel1  pixel2  pixel3  pixel4  pixel5  pixel6  pixel7  pixel8  \\\n",
       "0      2       0       0       0       0       0       0       0       0   \n",
       "1      9       0       0       0       0       0       0       0       0   \n",
       "2      6       0       0       0       0       0       0       0       5   \n",
       "3      0       0       0       0       1       2       0       0       0   \n",
       "4      3       0       0       0       0       0       0       0       0   \n",
       "\n",
       "   pixel9  ...  pixel775  pixel776  pixel777  pixel778  pixel779  pixel780  \\\n",
       "0       0  ...         0         0         0         0         0         0   \n",
       "1       0  ...         0         0         0         0         0         0   \n",
       "2       0  ...         0         0         0        30        43         0   \n",
       "3       0  ...         3         0         0         0         0         1   \n",
       "4       0  ...         0         0         0         0         0         0   \n",
       "\n",
       "   pixel781  pixel782  pixel783  pixel784  \n",
       "0         0         0         0         0  \n",
       "1         0         0         0         0  \n",
       "2         0         0         0         0  \n",
       "3         0         0         0         0  \n",
       "4         0         0         0         0  \n",
       "\n",
       "[5 rows x 785 columns]"
      ]
     },
     "execution_count": 3,
     "metadata": {},
     "output_type": "execute_result"
    }
   ],
   "source": [
    "df_training_set.head()"
   ]
  },
  {
   "cell_type": "code",
   "execution_count": 4,
   "metadata": {},
   "outputs": [
    {
     "data": {
      "text/html": [
       "<div>\n",
       "<style scoped>\n",
       "    .dataframe tbody tr th:only-of-type {\n",
       "        vertical-align: middle;\n",
       "    }\n",
       "\n",
       "    .dataframe tbody tr th {\n",
       "        vertical-align: top;\n",
       "    }\n",
       "\n",
       "    .dataframe thead th {\n",
       "        text-align: right;\n",
       "    }\n",
       "</style>\n",
       "<table border=\"1\" class=\"dataframe\">\n",
       "  <thead>\n",
       "    <tr style=\"text-align: right;\">\n",
       "      <th></th>\n",
       "      <th>label</th>\n",
       "      <th>pixel1</th>\n",
       "      <th>pixel2</th>\n",
       "      <th>pixel3</th>\n",
       "      <th>pixel4</th>\n",
       "      <th>pixel5</th>\n",
       "      <th>pixel6</th>\n",
       "      <th>pixel7</th>\n",
       "      <th>pixel8</th>\n",
       "      <th>pixel9</th>\n",
       "      <th>...</th>\n",
       "      <th>pixel775</th>\n",
       "      <th>pixel776</th>\n",
       "      <th>pixel777</th>\n",
       "      <th>pixel778</th>\n",
       "      <th>pixel779</th>\n",
       "      <th>pixel780</th>\n",
       "      <th>pixel781</th>\n",
       "      <th>pixel782</th>\n",
       "      <th>pixel783</th>\n",
       "      <th>pixel784</th>\n",
       "    </tr>\n",
       "  </thead>\n",
       "  <tbody>\n",
       "    <tr>\n",
       "      <th>0</th>\n",
       "      <td>0</td>\n",
       "      <td>0</td>\n",
       "      <td>0</td>\n",
       "      <td>0</td>\n",
       "      <td>0</td>\n",
       "      <td>0</td>\n",
       "      <td>0</td>\n",
       "      <td>0</td>\n",
       "      <td>9</td>\n",
       "      <td>8</td>\n",
       "      <td>...</td>\n",
       "      <td>103</td>\n",
       "      <td>87</td>\n",
       "      <td>56</td>\n",
       "      <td>0</td>\n",
       "      <td>0</td>\n",
       "      <td>0</td>\n",
       "      <td>0</td>\n",
       "      <td>0</td>\n",
       "      <td>0</td>\n",
       "      <td>0</td>\n",
       "    </tr>\n",
       "    <tr>\n",
       "      <th>1</th>\n",
       "      <td>1</td>\n",
       "      <td>0</td>\n",
       "      <td>0</td>\n",
       "      <td>0</td>\n",
       "      <td>0</td>\n",
       "      <td>0</td>\n",
       "      <td>0</td>\n",
       "      <td>0</td>\n",
       "      <td>0</td>\n",
       "      <td>0</td>\n",
       "      <td>...</td>\n",
       "      <td>34</td>\n",
       "      <td>0</td>\n",
       "      <td>0</td>\n",
       "      <td>0</td>\n",
       "      <td>0</td>\n",
       "      <td>0</td>\n",
       "      <td>0</td>\n",
       "      <td>0</td>\n",
       "      <td>0</td>\n",
       "      <td>0</td>\n",
       "    </tr>\n",
       "    <tr>\n",
       "      <th>2</th>\n",
       "      <td>2</td>\n",
       "      <td>0</td>\n",
       "      <td>0</td>\n",
       "      <td>0</td>\n",
       "      <td>0</td>\n",
       "      <td>0</td>\n",
       "      <td>0</td>\n",
       "      <td>14</td>\n",
       "      <td>53</td>\n",
       "      <td>99</td>\n",
       "      <td>...</td>\n",
       "      <td>0</td>\n",
       "      <td>0</td>\n",
       "      <td>0</td>\n",
       "      <td>0</td>\n",
       "      <td>63</td>\n",
       "      <td>53</td>\n",
       "      <td>31</td>\n",
       "      <td>0</td>\n",
       "      <td>0</td>\n",
       "      <td>0</td>\n",
       "    </tr>\n",
       "    <tr>\n",
       "      <th>3</th>\n",
       "      <td>2</td>\n",
       "      <td>0</td>\n",
       "      <td>0</td>\n",
       "      <td>0</td>\n",
       "      <td>0</td>\n",
       "      <td>0</td>\n",
       "      <td>0</td>\n",
       "      <td>0</td>\n",
       "      <td>0</td>\n",
       "      <td>0</td>\n",
       "      <td>...</td>\n",
       "      <td>137</td>\n",
       "      <td>126</td>\n",
       "      <td>140</td>\n",
       "      <td>0</td>\n",
       "      <td>133</td>\n",
       "      <td>224</td>\n",
       "      <td>222</td>\n",
       "      <td>56</td>\n",
       "      <td>0</td>\n",
       "      <td>0</td>\n",
       "    </tr>\n",
       "    <tr>\n",
       "      <th>4</th>\n",
       "      <td>3</td>\n",
       "      <td>0</td>\n",
       "      <td>0</td>\n",
       "      <td>0</td>\n",
       "      <td>0</td>\n",
       "      <td>0</td>\n",
       "      <td>0</td>\n",
       "      <td>0</td>\n",
       "      <td>0</td>\n",
       "      <td>0</td>\n",
       "      <td>...</td>\n",
       "      <td>0</td>\n",
       "      <td>0</td>\n",
       "      <td>0</td>\n",
       "      <td>0</td>\n",
       "      <td>0</td>\n",
       "      <td>0</td>\n",
       "      <td>0</td>\n",
       "      <td>0</td>\n",
       "      <td>0</td>\n",
       "      <td>0</td>\n",
       "    </tr>\n",
       "  </tbody>\n",
       "</table>\n",
       "<p>5 rows × 785 columns</p>\n",
       "</div>"
      ],
      "text/plain": [
       "   label  pixel1  pixel2  pixel3  pixel4  pixel5  pixel6  pixel7  pixel8  \\\n",
       "0      0       0       0       0       0       0       0       0       9   \n",
       "1      1       0       0       0       0       0       0       0       0   \n",
       "2      2       0       0       0       0       0       0      14      53   \n",
       "3      2       0       0       0       0       0       0       0       0   \n",
       "4      3       0       0       0       0       0       0       0       0   \n",
       "\n",
       "   pixel9  ...  pixel775  pixel776  pixel777  pixel778  pixel779  pixel780  \\\n",
       "0       8  ...       103        87        56         0         0         0   \n",
       "1       0  ...        34         0         0         0         0         0   \n",
       "2      99  ...         0         0         0         0        63        53   \n",
       "3       0  ...       137       126       140         0       133       224   \n",
       "4       0  ...         0         0         0         0         0         0   \n",
       "\n",
       "   pixel781  pixel782  pixel783  pixel784  \n",
       "0         0         0         0         0  \n",
       "1         0         0         0         0  \n",
       "2        31         0         0         0  \n",
       "3       222        56         0         0  \n",
       "4         0         0         0         0  \n",
       "\n",
       "[5 rows x 785 columns]"
      ]
     },
     "execution_count": 4,
     "metadata": {},
     "output_type": "execute_result"
    }
   ],
   "source": [
    "df_testing_set.head()"
   ]
  },
  {
   "cell_type": "code",
   "execution_count": 5,
   "metadata": {},
   "outputs": [
    {
     "data": {
      "text/plain": [
       "array([2, 9, 6, ..., 8, 8, 7])"
      ]
     },
     "execution_count": 5,
     "metadata": {},
     "output_type": "execute_result"
    }
   ],
   "source": [
    "y_train = np.array(df_training_set['label'])\n",
    "y_train"
   ]
  },
  {
   "cell_type": "code",
   "execution_count": 6,
   "metadata": {},
   "outputs": [],
   "source": [
    "X_train = np.array(df_training_set.loc[:,'pixel1' : 'pixel784']) / 255\n",
    "X_test = np.array(df_testing_set.loc[:, 'pixel1' : 'pixel784']) / 255"
   ]
  },
  {
   "cell_type": "code",
   "execution_count": 7,
   "metadata": {},
   "outputs": [
    {
     "name": "stdout",
     "output_type": "stream",
     "text": [
      "Label: 0\n"
     ]
    },
    {
     "data": {
      "image/png": "[encoded data removed]",
      "text/plain": [
       "<Figure size 640x480 with 1 Axes>"
      ]
     },
     "metadata": {},
     "output_type": "display_data"
    }
   ],
   "source": [
    "def view_image(index):\n",
    "    global X_train, y_train\n",
    "    image = (X_train * 255)[index]\n",
    "    label = (y_train)[index]\n",
    "    print(\"Label:\", label)\n",
    "    image = image.reshape(28, 28)\n",
    "    plt.imshow(image)\n",
    "    plt.show\n",
    "\n",
    "view_image(5000)"
   ]
  },
  {
   "cell_type": "markdown",
   "metadata": {},
   "source": [
    "NEURAL NETWORK FRAMEWORK"
   ]
  },
  {
   "cell_type": "code",
   "execution_count": 8,
   "metadata": {},
   "outputs": [],
   "source": [
    "class Layer_Dense():\n",
    "    def __init__(self, n_inputs, n_neurons):\n",
    "        self.weights = 0.01 * np.random.randn(n_inputs, n_neurons)\n",
    "        self.biases = np.zeros((1, n_neurons))\n",
    "    def forward(self, inputs):\n",
    "        self.inputs = inputs\n",
    "        self.output = np.dot(inputs, self.weights) + self.biases\n",
    "\n",
    "    def back(self, dvalues):\n",
    "        self.dweights = np.dot(self.inputs.T, dvalues)\n",
    "        self.dbiases = np.sum(dvalues, axis = 0, keepdims=True)\n",
    "\n",
    "        self.dinputs = np.dot(dvalues, self.weights.T)"
   ]
  },
  {
   "cell_type": "code",
   "execution_count": 9,
   "metadata": {},
   "outputs": [],
   "source": [
    "class Activation_ReLU():\n",
    "    def forward(self, inputs):\n",
    "        self.inputs = inputs\n",
    "        self.output = np.maximum(0, inputs)\n",
    "\n",
    "    def back(self, dvalues):\n",
    "        self.dinputs = dvalues.copy()\n",
    "        self.dinputs[self.inputs <= 0] = 0"
   ]
  },
  {
   "cell_type": "code",
   "execution_count": 10,
   "metadata": {},
   "outputs": [],
   "source": [
    "class Activation_Softmax():\n",
    "    def forward(self, inputs):\n",
    "        exp_values = np.exp(inputs - np.max(inputs, axis = 1, keepdims=True))\n",
    "        probabilities = exp_values / np.sum(exp_values, axis = 1, keepdims=True)\n",
    "        self.output = probabilities"
   ]
  },
  {
   "cell_type": "code",
   "execution_count": 11,
   "metadata": {},
   "outputs": [],
   "source": [
    "class Loss_CategoricalCrossEntropy():\n",
    "    def forward(self, y_pred, y_true):\n",
    "        samples = len(y_pred)\n",
    "        y_pred_clipped = np.clip(y_pred, 1e-7, 1 - 1e-7)\n",
    "\n",
    "        correct_confidences = y_pred_clipped[range(samples), y_true]\n",
    "\n",
    "        negative_log_likelihood = -np.log(correct_confidences)\n",
    "        return negative_log_likelihood\n",
    "    \n",
    "    def calculate(self, output, y):\n",
    "        sample_losses = self.forward(output, y)\n",
    "        data_loss = np.mean(sample_losses)\n",
    "        return data_loss"
   ]
  },
  {
   "cell_type": "code",
   "execution_count": 12,
   "metadata": {},
   "outputs": [],
   "source": [
    "class Activation_SM_Loss_CCE():\n",
    "    def __init__(self):\n",
    "        self.activation = Activation_Softmax()\n",
    "        self.loss = Loss_CategoricalCrossEntropy()\n",
    "\n",
    "    def forward(self, inputs, y_true):\n",
    "        self.activation.forward(inputs)\n",
    "        self.output = self.activation.output\n",
    "\n",
    "        return self.loss.calculate(self.output, y_true)\n",
    "    \n",
    "    def back(self, dvalues, y_true):\n",
    "        samples = len(dvalues)\n",
    "        self.dinputs = dvalues.copy()\n",
    "\n",
    "        self.dinputs[range(samples), y_true] -= 1\n",
    "\n",
    "        self.dinputs = self.dinputs / samples"
   ]
  },
  {
   "cell_type": "code",
   "execution_count": 13,
   "metadata": {},
   "outputs": [],
   "source": [
    "class Optimizer_SGD():\n",
    "    def __init__(self, learningrate = 1):\n",
    "        self.learning_rate = learningrate\n",
    "    \n",
    "    def update(self, layer):\n",
    "        layer.weights += -self.learning_rate * layer.dweights\n",
    "        layer.biases += -self.learning_rate * layer.dbiases"
   ]
  },
  {
   "cell_type": "markdown",
   "metadata": {},
   "source": [
    "MODEL CREATION"
   ]
  },
  {
   "cell_type": "code",
   "execution_count": 14,
   "metadata": {},
   "outputs": [],
   "source": [
    "dense1 = Layer_Dense(784, 25)\n",
    "activation1 = Activation_ReLU()\n",
    "\n",
    "dense2 = Layer_Dense(25, 10)\n",
    "loss_activation = Activation_SM_Loss_CCE()"
   ]
  },
  {
   "cell_type": "code",
   "execution_count": 15,
   "metadata": {},
   "outputs": [],
   "source": [
    "optimizer = Optimizer_SGD(0.1)"
   ]
  },
  {
   "cell_type": "markdown",
   "metadata": {},
   "source": [
    "TRAINING\n"
   ]
  },
  {
   "cell_type": "code",
   "execution_count": 16,
   "metadata": {},
   "outputs": [],
   "source": [
    "def train(epochs):\n",
    "    global X_train, y_train\n",
    "\n",
    "    for epoch in range(epochs):\n",
    "        dense1.forward(X_train)\n",
    "        activation1.forward(dense1.output)\n",
    "\n",
    "        dense2.forward(activation1.output)\n",
    "        loss = loss_activation.forward(dense2.output, y_train)\n",
    "\n",
    "        predictions = np.argmax(loss_activation.output, axis=1)\n",
    "        accuracy = np.mean(predictions == y_train)\n",
    "\n",
    "        if epoch % 10 == 0:\n",
    "            print(f\"Epoch: {epoch}, Loss: {loss:.4f}, Accuracy: {accuracy * 100:.4f}%\")\n",
    "\n",
    "        loss_activation.back(loss_activation.output, y_train)\n",
    "        dense2.back(loss_activation.dinputs)\n",
    "\n",
    "        activation1.back(dense2.dinputs)\n",
    "        dense1.back(activation1.dinputs)\n",
    "\n",
    "        optimizer.update(dense1)\n",
    "        optimizer.update(dense2)\n",
    "\n",
    "    return accuracy, loss"
   ]
  },
  {
   "cell_type": "code",
   "execution_count": 17,
   "metadata": {},
   "outputs": [
    {
     "name": "stdout",
     "output_type": "stream",
     "text": [
      "Epoch: 0, Loss: 2.3026, Accuracy: 9.2233%\n",
      "Epoch: 10, Loss: 2.2917, Accuracy: 23.4250%\n",
      "Epoch: 20, Loss: 2.2449, Accuracy: 20.6617%\n",
      "Epoch: 30, Loss: 2.0827, Accuracy: 21.4067%\n",
      "Epoch: 40, Loss: 1.7898, Accuracy: 37.4000%\n",
      "Epoch: 50, Loss: 1.5429, Accuracy: 49.8450%\n",
      "Epoch: 60, Loss: 1.3744, Accuracy: 54.8083%\n",
      "Epoch: 70, Loss: 1.2516, Accuracy: 57.2350%\n",
      "Epoch: 80, Loss: 1.1548, Accuracy: 59.1883%\n",
      "Epoch: 90, Loss: 1.0769, Accuracy: 61.0900%\n",
      "Epoch: 100, Loss: 1.0141, Accuracy: 63.1517%\n",
      "Epoch: 110, Loss: 0.9628, Accuracy: 64.8017%\n",
      "Epoch: 120, Loss: 0.9206, Accuracy: 66.1317%\n",
      "Epoch: 130, Loss: 0.8858, Accuracy: 66.9433%\n",
      "Epoch: 140, Loss: 0.9409, Accuracy: 64.2783%\n",
      "Epoch: 150, Loss: 0.8997, Accuracy: 64.9867%\n",
      "Epoch: 160, Loss: 0.8702, Accuracy: 65.7567%\n",
      "Epoch: 170, Loss: 0.8474, Accuracy: 66.4383%\n",
      "Epoch: 180, Loss: 0.8283, Accuracy: 67.1483%\n",
      "Epoch: 190, Loss: 0.8116, Accuracy: 67.9217%\n",
      "Epoch: 200, Loss: 0.7967, Accuracy: 68.6667%\n",
      "Epoch: 210, Loss: 0.7831, Accuracy: 69.3850%\n",
      "Epoch: 220, Loss: 0.7706, Accuracy: 70.0583%\n",
      "Epoch: 230, Loss: 0.7589, Accuracy: 70.6933%\n",
      "Epoch: 240, Loss: 0.7480, Accuracy: 71.2450%\n",
      "Epoch: 250, Loss: 0.7378, Accuracy: 71.7667%\n"
     ]
    }
   ],
   "source": [
    "acc1, loss1 = train(251)"
   ]
  },
  {
   "cell_type": "markdown",
   "metadata": {},
   "source": []
  },
  {
   "cell_type": "code",
   "execution_count": 18,
   "metadata": {},
   "outputs": [
    {
     "name": "stdout",
     "output_type": "stream",
     "text": [
      "Epoch: 0, Loss: 0.7323, Accuracy: 73.2850%\n",
      "Epoch: 10, Loss: 0.7229, Accuracy: 73.7533%\n",
      "Epoch: 20, Loss: 0.7139, Accuracy: 74.1733%\n",
      "Epoch: 30, Loss: 0.7053, Accuracy: 74.5867%\n",
      "Epoch: 40, Loss: 0.6971, Accuracy: 74.9500%\n",
      "Epoch: 50, Loss: 0.6893, Accuracy: 75.2550%\n",
      "Epoch: 60, Loss: 0.6817, Accuracy: 75.5650%\n",
      "Epoch: 70, Loss: 0.6743, Accuracy: 75.8717%\n",
      "Epoch: 80, Loss: 0.6673, Accuracy: 76.1567%\n",
      "Epoch: 90, Loss: 0.6605, Accuracy: 76.4883%\n",
      "Epoch: 100, Loss: 0.6540, Accuracy: 76.8083%\n",
      "Epoch: 110, Loss: 0.6477, Accuracy: 77.0667%\n",
      "Epoch: 120, Loss: 0.6416, Accuracy: 77.2867%\n",
      "Epoch: 130, Loss: 0.6357, Accuracy: 77.5133%\n",
      "Epoch: 140, Loss: 0.6300, Accuracy: 77.7417%\n",
      "Epoch: 150, Loss: 0.6245, Accuracy: 77.9600%\n",
      "Epoch: 160, Loss: 0.6191, Accuracy: 78.1617%\n",
      "Epoch: 170, Loss: 0.6140, Accuracy: 78.3933%\n",
      "Epoch: 180, Loss: 0.6090, Accuracy: 78.5950%\n",
      "Epoch: 190, Loss: 0.6041, Accuracy: 78.7967%\n",
      "Epoch: 200, Loss: 0.5994, Accuracy: 78.9567%\n",
      "Epoch: 210, Loss: 0.5948, Accuracy: 79.1233%\n",
      "Epoch: 220, Loss: 0.5904, Accuracy: 79.2850%\n",
      "Epoch: 230, Loss: 0.5862, Accuracy: 79.4633%\n",
      "Epoch: 240, Loss: 0.5821, Accuracy: 79.5717%\n",
      "Epoch: 250, Loss: 0.5783, Accuracy: 79.7367%\n"
     ]
    }
   ],
   "source": [
    "acc2, loss2 = train(251)"
   ]
  },
  {
   "cell_type": "code",
   "execution_count": 19,
   "metadata": {},
   "outputs": [
    {
     "name": "stdout",
     "output_type": "stream",
     "text": [
      "Epoch: 0, Loss: 0.5776, Accuracy: 79.4900%\n",
      "Epoch: 10, Loss: 0.5735, Accuracy: 79.6933%\n",
      "Epoch: 20, Loss: 0.5693, Accuracy: 79.9283%\n",
      "Epoch: 30, Loss: 0.5654, Accuracy: 80.1233%\n",
      "Epoch: 40, Loss: 0.5622, Accuracy: 80.2467%\n",
      "Epoch: 50, Loss: 0.5598, Accuracy: 80.3933%\n",
      "Epoch: 60, Loss: 0.5573, Accuracy: 80.5150%\n",
      "Epoch: 70, Loss: 0.5546, Accuracy: 80.6100%\n",
      "Epoch: 80, Loss: 0.5520, Accuracy: 80.6683%\n",
      "Epoch: 90, Loss: 0.5496, Accuracy: 80.7067%\n",
      "Epoch: 100, Loss: 0.5472, Accuracy: 80.8267%\n",
      "Epoch: 110, Loss: 0.5450, Accuracy: 80.8833%\n",
      "Epoch: 120, Loss: 0.5429, Accuracy: 80.9500%\n",
      "Epoch: 130, Loss: 0.5411, Accuracy: 80.9500%\n",
      "Epoch: 140, Loss: 0.5394, Accuracy: 80.9650%\n",
      "Epoch: 150, Loss: 0.5379, Accuracy: 81.0250%\n",
      "Epoch: 160, Loss: 0.5397, Accuracy: 81.1067%\n",
      "Epoch: 170, Loss: 0.5455, Accuracy: 80.9083%\n",
      "Epoch: 180, Loss: 0.5356, Accuracy: 81.1550%\n",
      "Epoch: 190, Loss: 0.5267, Accuracy: 81.4400%\n",
      "Epoch: 200, Loss: 0.5219, Accuracy: 81.5433%\n",
      "Epoch: 210, Loss: 0.5189, Accuracy: 81.6833%\n",
      "Epoch: 220, Loss: 0.5165, Accuracy: 81.7667%\n",
      "Epoch: 230, Loss: 0.5144, Accuracy: 81.8367%\n",
      "Epoch: 240, Loss: 0.5124, Accuracy: 81.9083%\n",
      "Epoch: 250, Loss: 0.5106, Accuracy: 81.9683%\n"
     ]
    }
   ],
   "source": [
    "acc3, loss3 = train(251)"
   ]
  },
  {
   "cell_type": "code",
   "execution_count": 20,
   "metadata": {},
   "outputs": [
    {
     "name": "stdout",
     "output_type": "stream",
     "text": [
      "Epoch: 0, Loss: 0.5147, Accuracy: 82.0567%\n",
      "Epoch: 10, Loss: 0.5130, Accuracy: 82.1017%\n",
      "Epoch: 20, Loss: 0.5114, Accuracy: 82.1600%\n",
      "Epoch: 30, Loss: 0.5098, Accuracy: 82.2183%\n",
      "Epoch: 40, Loss: 0.5082, Accuracy: 82.2967%\n",
      "Epoch: 50, Loss: 0.5066, Accuracy: 82.3400%\n",
      "Epoch: 60, Loss: 0.5051, Accuracy: 82.4233%\n",
      "Epoch: 70, Loss: 0.5036, Accuracy: 82.4833%\n",
      "Epoch: 80, Loss: 0.5021, Accuracy: 82.5483%\n",
      "Epoch: 90, Loss: 0.5007, Accuracy: 82.6100%\n",
      "Epoch: 100, Loss: 0.4992, Accuracy: 82.6717%\n",
      "Epoch: 110, Loss: 0.4978, Accuracy: 82.7117%\n",
      "Epoch: 120, Loss: 0.4964, Accuracy: 82.7783%\n",
      "Epoch: 130, Loss: 0.4951, Accuracy: 82.8317%\n",
      "Epoch: 140, Loss: 0.4941, Accuracy: 82.8483%\n",
      "Epoch: 150, Loss: 0.4940, Accuracy: 82.7617%\n"
     ]
    }
   ],
   "source": [
    "acc4, loss4 = train(151)"
   ]
  },
  {
   "cell_type": "code",
   "execution_count": 21,
   "metadata": {},
   "outputs": [
    {
     "name": "stdout",
     "output_type": "stream",
     "text": [
      "Epoch: 0, Loss: 0.4887, Accuracy: 82.7350%\n",
      "Epoch: 10, Loss: 0.4908, Accuracy: 82.5783%\n",
      "Epoch: 20, Loss: 0.5010, Accuracy: 81.9417%\n",
      "Epoch: 30, Loss: 0.5029, Accuracy: 81.8583%\n",
      "Epoch: 40, Loss: 0.4933, Accuracy: 82.4950%\n",
      "Epoch: 50, Loss: 0.4860, Accuracy: 82.9150%\n",
      "Epoch: 60, Loss: 0.4826, Accuracy: 83.1100%\n",
      "Epoch: 70, Loss: 0.4862, Accuracy: 83.0383%\n",
      "Epoch: 80, Loss: 0.4946, Accuracy: 82.8467%\n",
      "Epoch: 90, Loss: 0.4894, Accuracy: 83.0433%\n",
      "Epoch: 100, Loss: 0.4853, Accuracy: 83.1350%\n",
      "Epoch: 110, Loss: 0.4833, Accuracy: 83.1983%\n",
      "Epoch: 120, Loss: 0.4820, Accuracy: 83.2467%\n",
      "Epoch: 130, Loss: 0.4810, Accuracy: 83.2650%\n",
      "Epoch: 140, Loss: 0.4799, Accuracy: 83.2933%\n",
      "Epoch: 150, Loss: 0.4788, Accuracy: 83.3483%\n"
     ]
    }
   ],
   "source": [
    "acc5, loss5 = train(151)"
   ]
  },
  {
   "cell_type": "code",
   "execution_count": 22,
   "metadata": {},
   "outputs": [
    {
     "name": "stdout",
     "output_type": "stream",
     "text": [
      "0.8334833333333334\n",
      "0.47878087776520845\n"
     ]
    }
   ],
   "source": [
    "print(acc5)\n",
    "print(loss5)"
   ]
  },
  {
   "cell_type": "markdown",
   "metadata": {},
   "source": [
    "TESTING"
   ]
  },
  {
   "cell_type": "code",
   "execution_count": 23,
   "metadata": {},
   "outputs": [],
   "source": [
    "activation2 = Activation_Softmax()"
   ]
  },
  {
   "cell_type": "code",
   "execution_count": 35,
   "metadata": {},
   "outputs": [],
   "source": [
    "def test(index):\n",
    "    global X_test\n",
    "\n",
    "    dense1.forward(X_test)\n",
    "    activation1.forward(dense1.output)\n",
    "\n",
    "    dense2.forward(activation1.output)\n",
    "    activation2.forward(dense2.output)\n",
    "\n",
    "    prediction = np.argmax(activation2.output[index])\n",
    "\n",
    "    print(\"Prediction:\", prediction)\n",
    "    \n",
    "    image = (X_test * 255)[index]\n",
    "    image = image.reshape(28,28)\n",
    "\n",
    "    plt.imshow(image)\n",
    "    plt.show\n",
    "    "
   ]
  },
  {
   "cell_type": "code",
   "execution_count": 36,
   "metadata": {},
   "outputs": [
    {
     "name": "stdout",
     "output_type": "stream",
     "text": [
      "Prediction: 0\n"
     ]
    },
    {
     "data": {
      "image/png": "[encoded data removed]",
      "text/plain": [
       "<Figure size 640x480 with 1 Axes>"
      ]
     },
     "metadata": {},
     "output_type": "display_data"
    }
   ],
   "source": [
    "test(200)"
   ]
  },
  {
   "cell_type": "code",
   "execution_count": 38,
   "metadata": {},
   "outputs": [
    {
     "name": "stdout",
     "output_type": "stream",
     "text": [
      "Prediction: 4\n"
     ]
    },
    {
     "data": {
      "image/png": "[encoded data removed]",
      "text/plain": [
       "<Figure size 640x480 with 1 Axes>"
      ]
     },
     "metadata": {},
     "output_type": "display_data"
    }
   ],
   "source": [
    "test(150)"
   ]
  },
  {
   "cell_type": "code",
   "execution_count": 39,
   "metadata": {},
   "outputs": [
    {
     "name": "stdout",
     "output_type": "stream",
     "text": [
      "Prediction: 0\n"
     ]
    },
    {
     "data": {
      "image/png": "[encoded data removed]",
      "text/plain": [
       "<Figure size 640x480 with 1 Axes>"
      ]
     },
     "metadata": {},
     "output_type": "display_data"
    }
   ],
   "source": [
    "test(420)"
   ]
  },
  {
   "cell_type": "code",
   "execution_count": 40,
   "metadata": {},
   "outputs": [
    {
     "name": "stdout",
     "output_type": "stream",
     "text": [
      "Prediction: 1\n"
     ]
    },
    {
     "data": {
      "image/png": "[encoded data removed]",
      "text/plain": [
       "<Figure size 640x480 with 1 Axes>"
      ]
     },
     "metadata": {},
     "output_type": "display_data"
    }
   ],
   "source": [
    "test(1)"
   ]
  },
  {
   "cell_type": "code",
   "execution_count": 41,
   "metadata": {},
   "outputs": [
    {
     "name": "stdout",
     "output_type": "stream",
     "text": [
      "Prediction: 8\n"
     ]
    },
    {
     "data": {
      "image/png": "[encoded data removed]",
      "text/plain": [
       "<Figure size 640x480 with 1 Axes>"
      ]
     },
     "metadata": {},
     "output_type": "display_data"
    }
   ],
   "source": [
    "test(5879)"
   ]
  },
  {
   "cell_type": "code",
   "execution_count": 42,
   "metadata": {},
   "outputs": [
    {
     "name": "stdout",
     "output_type": "stream",
     "text": [
      "Prediction: 2\n"
     ]
    },
    {
     "data": {
      "image/png": "[encoded data removed]",
      "text/plain": [
       "<Figure size 640x480 with 1 Axes>"
      ]
     },
     "metadata": {},
     "output_type": "display_data"
    }
   ],
   "source": [
    "test(1911)"
   ]
  },
  {
   "cell_type": "code",
   "execution_count": 43,
   "metadata": {},
   "outputs": [
    {
     "name": "stdout",
     "output_type": "stream",
     "text": [
      "Prediction: 7\n"
     ]
    },
    {
     "data": {
      "image/png": "[encoded data removed]",
      "text/plain": [
       "<Figure size 640x480 with 1 Axes>"
      ]
     },
     "metadata": {},
     "output_type": "display_data"
    }
   ],
   "source": [
    "test(98)"
   ]
  }
 ],
 "metadata": {
  "kernelspec": {
   "display_name": "proj",
   "language": "python",
   "name": "python3"
  },
  "language_info": {
   "codemirror_mode": {
    "name": "ipython",
    "version": 3
   },
   "file_extension": ".py",
   "mimetype": "text/x-python",
   "name": "python",
   "nbconvert_exporter": "python",
   "pygments_lexer": "ipython3",
   "version": "3.12.3"
  }
 },
 "nbformat": 4,
 "nbformat_minor": 2
}
